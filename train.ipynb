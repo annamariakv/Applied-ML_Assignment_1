{
 "cells": [
  {
   "cell_type": "code",
   "execution_count": 30,
   "id": "fd4d84e0",
   "metadata": {},
   "outputs": [],
   "source": [
    "import pandas as pd\n",
    "import ast  \n",
    "from ast import literal_eval\n",
    "import numpy as np"
   ]
  },
  {
   "cell_type": "code",
   "execution_count": 16,
   "id": "6e259f85",
   "metadata": {},
   "outputs": [],
   "source": [
    "def convert_to_list(value):\n",
    "    try:\n",
    "        return ast.literal_eval(value)\n",
    "    except (ValueError, SyntaxError):\n",
    "        return value"
   ]
  },
  {
   "cell_type": "code",
   "execution_count": 20,
   "id": "34093d35",
   "metadata": {},
   "outputs": [],
   "source": [
    "train_df = pd.read_csv('train.csv')\n",
    "val_df = pd.read_csv('validation.csv')\n",
    "test_df = pd.read_csv('test.csv')"
   ]
  },
  {
   "cell_type": "code",
   "execution_count": 22,
   "id": "7ce063c3",
   "metadata": {},
   "outputs": [],
   "source": [
    "X_train = train_df['vector'].apply(literal_eval)\n",
    "y_train = train_df['label']"
   ]
  },
  {
   "cell_type": "code",
   "execution_count": 23,
   "id": "3c10ed88",
   "metadata": {},
   "outputs": [],
   "source": [
    "X_val = val_df['vector'].apply(literal_eval)\n",
    "y_val = val_df['label']"
   ]
  },
  {
   "cell_type": "code",
   "execution_count": 24,
   "id": "3249aaa4",
   "metadata": {},
   "outputs": [],
   "source": [
    "X_test = test_df['vector'].apply(literal_eval)\n",
    "y_test = test_df['label']"
   ]
  },
  {
   "cell_type": "code",
   "execution_count": 34,
   "id": "4fe5d1f5",
   "metadata": {},
   "outputs": [],
   "source": [
    "X_train_array = np.vstack(X_train)"
   ]
  },
  {
   "cell_type": "code",
   "execution_count": 46,
   "id": "280f6ff4",
   "metadata": {},
   "outputs": [],
   "source": [
    "X_test_array = np.vstack(X_test)"
   ]
  },
  {
   "cell_type": "code",
   "execution_count": 39,
   "id": "ca1da0ea",
   "metadata": {},
   "outputs": [],
   "source": [
    "X_val_array = np.vstack(X_val)"
   ]
  },
  {
   "cell_type": "markdown",
   "id": "2720f5f2",
   "metadata": {},
   "source": [
    "# Naive Bayes:"
   ]
  },
  {
   "cell_type": "code",
   "execution_count": 25,
   "id": "b284a917",
   "metadata": {},
   "outputs": [],
   "source": [
    "from sklearn.naive_bayes import MultinomialNB\n",
    "from sklearn.metrics import accuracy_score, classification_report"
   ]
  },
  {
   "cell_type": "code",
   "execution_count": 36,
   "id": "6355a383",
   "metadata": {},
   "outputs": [
    {
     "data": {
      "text/plain": [
       "MultinomialNB()"
      ]
     },
     "execution_count": 36,
     "metadata": {},
     "output_type": "execute_result"
    }
   ],
   "source": [
    "classifier = MultinomialNB()\n",
    "classifier.fit(X_train_array, y_train)"
   ]
  },
  {
   "cell_type": "code",
   "execution_count": 41,
   "id": "65d2dd59",
   "metadata": {},
   "outputs": [],
   "source": [
    "val_predictions = classifier.predict(X_val_array)"
   ]
  },
  {
   "cell_type": "code",
   "execution_count": 42,
   "id": "7d76eeb2",
   "metadata": {},
   "outputs": [
    {
     "name": "stdout",
     "output_type": "stream",
     "text": [
      "Validation Accuracy: 0.9860302677532014\n",
      "Validation Classification Report:\n",
      "               precision    recall  f1-score   support\n",
      "\n",
      "         0.0       0.99      0.99      0.99       645\n",
      "         1.0       0.98      0.96      0.97       214\n",
      "\n",
      "    accuracy                           0.99       859\n",
      "   macro avg       0.98      0.98      0.98       859\n",
      "weighted avg       0.99      0.99      0.99       859\n",
      "\n"
     ]
    }
   ],
   "source": [
    "val_accuracy = accuracy_score(y_val, val_predictions)\n",
    "val_classification_rep = classification_report(y_val, val_predictions)\n",
    "\n",
    "print(f\"Validation Accuracy: {val_accuracy}\")\n",
    "print(\"Validation Classification Report:\\n\", val_classification_rep)"
   ]
  },
  {
   "cell_type": "code",
   "execution_count": 47,
   "id": "c1867bfe",
   "metadata": {},
   "outputs": [],
   "source": [
    "test_predictions = classifier.predict(X_test_array)"
   ]
  },
  {
   "cell_type": "code",
   "execution_count": 48,
   "id": "41e52500",
   "metadata": {},
   "outputs": [
    {
     "name": "stdout",
     "output_type": "stream",
     "text": [
      "\n",
      "Test Accuracy: 0.9883720930232558\n",
      "Test Classification Report:\n",
      "               precision    recall  f1-score   support\n",
      "\n",
      "         0.0       0.99      0.99      0.99       633\n",
      "         1.0       0.97      0.98      0.98       227\n",
      "\n",
      "    accuracy                           0.99       860\n",
      "   macro avg       0.98      0.99      0.99       860\n",
      "weighted avg       0.99      0.99      0.99       860\n",
      "\n"
     ]
    }
   ],
   "source": [
    "test_accuracy = accuracy_score(y_test, test_predictions)\n",
    "test_classification_rep = classification_report(y_test, test_predictions)\n",
    "\n",
    "print(f\"\\nTest Accuracy: {test_accuracy}\")\n",
    "print(\"Test Classification Report:\\n\", test_classification_rep)"
   ]
  },
  {
   "cell_type": "markdown",
   "id": "c88bd6f8",
   "metadata": {},
   "source": [
    "# SVM"
   ]
  },
  {
   "cell_type": "code",
   "execution_count": 49,
   "id": "642b49fc",
   "metadata": {},
   "outputs": [],
   "source": [
    "from sklearn.svm import LinearSVC\n"
   ]
  },
  {
   "cell_type": "code",
   "execution_count": 50,
   "id": "b9ef0a01",
   "metadata": {},
   "outputs": [
    {
     "data": {
      "text/plain": [
       "LinearSVC(max_iter=10000)"
      ]
     },
     "execution_count": 50,
     "metadata": {},
     "output_type": "execute_result"
    }
   ],
   "source": [
    "classifier_2 = LinearSVC(max_iter=10000)\n",
    "classifier_2.fit(X_train_array, y_train)\n"
   ]
  },
  {
   "cell_type": "code",
   "execution_count": 52,
   "id": "58b98528",
   "metadata": {},
   "outputs": [],
   "source": [
    "val_predictions = classifier_2.predict(X_val_array)\n"
   ]
  },
  {
   "cell_type": "code",
   "execution_count": 53,
   "id": "af549aee",
   "metadata": {},
   "outputs": [
    {
     "name": "stdout",
     "output_type": "stream",
     "text": [
      "Validation Accuracy: 0.9837019790454016\n",
      "Validation Classification Report:\n",
      "               precision    recall  f1-score   support\n",
      "\n",
      "         0.0       0.98      1.00      0.99       645\n",
      "         1.0       0.99      0.95      0.97       214\n",
      "\n",
      "    accuracy                           0.98       859\n",
      "   macro avg       0.98      0.97      0.98       859\n",
      "weighted avg       0.98      0.98      0.98       859\n",
      "\n"
     ]
    }
   ],
   "source": [
    "val_accuracy = accuracy_score(y_val, val_predictions)\n",
    "val_classification_rep = classification_report(y_val, val_predictions)\n",
    "\n",
    "print(f\"Validation Accuracy: {val_accuracy}\")\n",
    "print(\"Validation Classification Report:\\n\", val_classification_rep)\n"
   ]
  },
  {
   "cell_type": "code",
   "execution_count": 54,
   "id": "85cad3b5",
   "metadata": {},
   "outputs": [
    {
     "name": "stdout",
     "output_type": "stream",
     "text": [
      "\n",
      "Test Accuracy: 0.9872093023255814\n",
      "Test Classification Report:\n",
      "               precision    recall  f1-score   support\n",
      "\n",
      "         0.0       0.99      0.99      0.99       633\n",
      "         1.0       0.97      0.98      0.98       227\n",
      "\n",
      "    accuracy                           0.99       860\n",
      "   macro avg       0.98      0.98      0.98       860\n",
      "weighted avg       0.99      0.99      0.99       860\n",
      "\n"
     ]
    }
   ],
   "source": [
    "test_predictions = classifier_2.predict(X_test_array)\n",
    "\n",
    "# Evaluate the model on the test set\n",
    "test_accuracy = accuracy_score(y_test, test_predictions)\n",
    "test_classification_rep = classification_report(y_test, test_predictions)\n",
    "\n",
    "print(f\"\\nTest Accuracy: {test_accuracy}\")\n",
    "print(\"Test Classification Report:\\n\", test_classification_rep)"
   ]
  },
  {
   "cell_type": "markdown",
   "id": "d3189ce3",
   "metadata": {},
   "source": [
    "# Random Forest"
   ]
  },
  {
   "cell_type": "code",
   "execution_count": 55,
   "id": "1a5ab4f1",
   "metadata": {},
   "outputs": [],
   "source": [
    "from sklearn.ensemble import RandomForestClassifier\n",
    "from sklearn.metrics import accuracy_score, classification_report\n",
    "from sklearn.model_selection import GridSearchCV"
   ]
  },
  {
   "cell_type": "code",
   "execution_count": 56,
   "id": "f079234b",
   "metadata": {},
   "outputs": [
    {
     "data": {
      "text/plain": [
       "RandomForestClassifier(random_state=42)"
      ]
     },
     "execution_count": 56,
     "metadata": {},
     "output_type": "execute_result"
    }
   ],
   "source": [
    "classifier_3 = RandomForestClassifier(n_estimators=100, random_state=42)\n",
    "classifier_3.fit(X_train_array, y_train)"
   ]
  },
  {
   "cell_type": "code",
   "execution_count": 57,
   "id": "9902baf0",
   "metadata": {},
   "outputs": [],
   "source": [
    "val_predictions_3 = classifier_3.predict(X_val_array)\n"
   ]
  },
  {
   "cell_type": "code",
   "execution_count": 58,
   "id": "715fc0b4",
   "metadata": {},
   "outputs": [
    {
     "name": "stdout",
     "output_type": "stream",
     "text": [
      "Validation Accuracy: 0.9767171129220024\n",
      "Validation Classification Report:\n",
      "               precision    recall  f1-score   support\n",
      "\n",
      "         0.0       0.97      1.00      0.98       645\n",
      "         1.0       0.99      0.91      0.95       214\n",
      "\n",
      "    accuracy                           0.98       859\n",
      "   macro avg       0.98      0.95      0.97       859\n",
      "weighted avg       0.98      0.98      0.98       859\n",
      "\n"
     ]
    }
   ],
   "source": [
    "val_accuracy_3 = accuracy_score(y_val, val_predictions_3)\n",
    "val_classification_rep_3 = classification_report(y_val, val_predictions_3)\n",
    "\n",
    "print(f\"Validation Accuracy: {val_accuracy_3}\")\n",
    "print(\"Validation Classification Report:\\n\", val_classification_rep_3)"
   ]
  },
  {
   "cell_type": "code",
   "execution_count": 64,
   "id": "5e7a99b3",
   "metadata": {},
   "outputs": [
    {
     "name": "stdout",
     "output_type": "stream",
     "text": [
      "Fitting 3 folds for each of 12 candidates, totalling 36 fits\n",
      "[CV] END max_depth=None, min_samples_split=5, n_estimators=100; total time=  16.3s\n",
      "[CV] END max_depth=None, min_samples_split=5, n_estimators=100; total time=  13.4s\n",
      "[CV] END max_depth=None, min_samples_split=5, n_estimators=100; total time=  14.7s\n",
      "[CV] END max_depth=None, min_samples_split=5, n_estimators=300; total time=  41.0s\n",
      "[CV] END max_depth=None, min_samples_split=5, n_estimators=300; total time=  40.7s\n",
      "[CV] END max_depth=None, min_samples_split=5, n_estimators=300; total time=  40.8s\n",
      "[CV] END max_depth=None, min_samples_split=10, n_estimators=100; total time=  13.8s\n",
      "[CV] END max_depth=None, min_samples_split=10, n_estimators=100; total time=  13.8s\n",
      "[CV] END max_depth=None, min_samples_split=10, n_estimators=100; total time=  14.0s\n",
      "[CV] END max_depth=None, min_samples_split=10, n_estimators=300; total time=  42.7s\n",
      "[CV] END max_depth=None, min_samples_split=10, n_estimators=300; total time=  41.3s\n",
      "[CV] END max_depth=None, min_samples_split=10, n_estimators=300; total time=  41.7s\n",
      "[CV] END max_depth=10, min_samples_split=5, n_estimators=100; total time=   5.1s\n",
      "[CV] END max_depth=10, min_samples_split=5, n_estimators=100; total time=   5.2s\n",
      "[CV] END max_depth=10, min_samples_split=5, n_estimators=100; total time=   4.9s\n",
      "[CV] END max_depth=10, min_samples_split=5, n_estimators=300; total time=  15.0s\n",
      "[CV] END max_depth=10, min_samples_split=5, n_estimators=300; total time=  15.9s\n",
      "[CV] END max_depth=10, min_samples_split=5, n_estimators=300; total time=  15.7s\n",
      "[CV] END max_depth=10, min_samples_split=10, n_estimators=100; total time=   5.3s\n",
      "[CV] END max_depth=10, min_samples_split=10, n_estimators=100; total time=   5.4s\n",
      "[CV] END max_depth=10, min_samples_split=10, n_estimators=100; total time=   5.0s\n",
      "[CV] END max_depth=10, min_samples_split=10, n_estimators=300; total time=  15.1s\n",
      "[CV] END max_depth=10, min_samples_split=10, n_estimators=300; total time=  15.7s\n",
      "[CV] END max_depth=10, min_samples_split=10, n_estimators=300; total time=  15.7s\n",
      "[CV] END max_depth=20, min_samples_split=5, n_estimators=100; total time=   8.3s\n",
      "[CV] END max_depth=20, min_samples_split=5, n_estimators=100; total time=   8.1s\n",
      "[CV] END max_depth=20, min_samples_split=5, n_estimators=100; total time=   8.1s\n",
      "[CV] END max_depth=20, min_samples_split=5, n_estimators=300; total time=  23.0s\n",
      "[CV] END max_depth=20, min_samples_split=5, n_estimators=300; total time=  22.2s\n",
      "[CV] END max_depth=20, min_samples_split=5, n_estimators=300; total time=  24.2s\n",
      "[CV] END max_depth=20, min_samples_split=10, n_estimators=100; total time=   8.2s\n",
      "[CV] END max_depth=20, min_samples_split=10, n_estimators=100; total time=   8.7s\n",
      "[CV] END max_depth=20, min_samples_split=10, n_estimators=100; total time=   8.5s\n",
      "[CV] END max_depth=20, min_samples_split=10, n_estimators=300; total time=  23.8s\n",
      "[CV] END max_depth=20, min_samples_split=10, n_estimators=300; total time=  23.7s\n",
      "[CV] END max_depth=20, min_samples_split=10, n_estimators=300; total time=  23.6s\n",
      "Best Hyperparameters: {'max_depth': None, 'min_samples_split': 5, 'n_estimators': 300}\n"
     ]
    }
   ],
   "source": [
    "param_grid = {\n",
    "    'n_estimators': [100,300],\n",
    "    'max_depth': [None, 10, 20],\n",
    "    'min_samples_split': [5, 10]\n",
    "}\n",
    "\n",
    "grid_search = GridSearchCV(RandomForestClassifier(random_state=42), param_grid, cv=3,verbose=2)\n",
    "grid_search.fit(X_train_array, y_train)\n",
    "\n",
    "best_params = grid_search.best_params_\n",
    "print(\"Best Hyperparameters:\", best_params)"
   ]
  },
  {
   "cell_type": "code",
   "execution_count": 65,
   "id": "29ca7e6a",
   "metadata": {},
   "outputs": [
    {
     "data": {
      "text/plain": [
       "RandomForestClassifier(min_samples_split=5, n_estimators=300, random_state=42)"
      ]
     },
     "execution_count": 65,
     "metadata": {},
     "output_type": "execute_result"
    }
   ],
   "source": [
    "best_classifier = grid_search.best_estimator_\n",
    "best_classifier.fit(X_train_array, y_train)"
   ]
  },
  {
   "cell_type": "code",
   "execution_count": 66,
   "id": "ee4bd398",
   "metadata": {},
   "outputs": [
    {
     "name": "stdout",
     "output_type": "stream",
     "text": [
      "Validation Accuracy: 0.9767171129220024\n",
      "Validation Classification Report:\n",
      "               precision    recall  f1-score   support\n",
      "\n",
      "         0.0       0.97      1.00      0.98       645\n",
      "         1.0       0.99      0.91      0.95       214\n",
      "\n",
      "    accuracy                           0.98       859\n",
      "   macro avg       0.98      0.95      0.97       859\n",
      "weighted avg       0.98      0.98      0.98       859\n",
      "\n"
     ]
    }
   ],
   "source": [
    "val_predictions_4 = best_classifier.predict(X_val_array)\n",
    "val_accuracy_4 = accuracy_score(y_val, val_predictions_4)\n",
    "val_classification_rep_4 = classification_report(y_val, val_predictions_4)\n",
    "\n",
    "print(f\"Validation Accuracy: {val_accuracy_4}\")\n",
    "print(\"Validation Classification Report:\\n\", val_classification_rep_4)"
   ]
  },
  {
   "cell_type": "code",
   "execution_count": 67,
   "id": "544b0dde",
   "metadata": {},
   "outputs": [
    {
     "name": "stdout",
     "output_type": "stream",
     "text": [
      "\n",
      "Test Accuracy: 0.9755813953488373\n",
      "Test Classification Report:\n",
      "               precision    recall  f1-score   support\n",
      "\n",
      "         0.0       0.97      1.00      0.98       633\n",
      "         1.0       1.00      0.91      0.95       227\n",
      "\n",
      "    accuracy                           0.98       860\n",
      "   macro avg       0.98      0.95      0.97       860\n",
      "weighted avg       0.98      0.98      0.98       860\n",
      "\n"
     ]
    }
   ],
   "source": [
    "test_predictions = best_classifier.predict(X_test_array)\n",
    "\n",
    "# Evaluate the model on the test set\n",
    "test_accuracy = accuracy_score(y_test, test_predictions)\n",
    "test_classification_rep = classification_report(y_test, test_predictions)\n",
    "\n",
    "print(f\"\\nTest Accuracy: {test_accuracy}\")\n",
    "print(\"Test Classification Report:\\n\", test_classification_rep)"
   ]
  },
  {
   "cell_type": "markdown",
   "id": "546d4386",
   "metadata": {},
   "source": [
    "# Best model:"
   ]
  },
  {
   "cell_type": "markdown",
   "id": "a776562c",
   "metadata": {},
   "source": [
    "The best model based on the test results is the Naive Bayes model with 98.83% accuracy."
   ]
  },
  {
   "cell_type": "code",
   "execution_count": null,
   "id": "db0985ab",
   "metadata": {},
   "outputs": [],
   "source": []
  }
 ],
 "metadata": {
  "kernelspec": {
   "display_name": "Python 3 (ipykernel)",
   "language": "python",
   "name": "python3"
  },
  "language_info": {
   "codemirror_mode": {
    "name": "ipython",
    "version": 3
   },
   "file_extension": ".py",
   "mimetype": "text/x-python",
   "name": "python",
   "nbconvert_exporter": "python",
   "pygments_lexer": "ipython3",
   "version": "3.9.12"
  }
 },
 "nbformat": 4,
 "nbformat_minor": 5
}
